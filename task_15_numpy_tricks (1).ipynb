{
 "cells": [
  {
   "cell_type": "markdown",
   "metadata": {
    "id": "J88qfqQEk_sT"
   },
   "source": [
    "###`Q-1:` Create a random 3x4 matrix with value between 0-100. And perform below tasks\n",
    "\n",
    "    i. Sort this matrix. np.sort()\n",
    "    ii. Sort this matrix based on values in 2nd column.\n",
    "    iii. Sort this matrix based on max value in each row.\n",
    "    iv. Sort based on elements value.\n"
   ]
  },
  {
   "cell_type": "markdown",
   "metadata": {
    "id": "xpOwOdhqlE9R"
   },
   "source": [
    "See examples:\n",
    "```\n",
    "arr =\n",
    "    [[92 90 74]\n",
    "    [ 6 63 93]\n",
    "    [15 93 96]\n",
    "    [70 60 48]]\n",
    "```\n",
    "```\n",
    "i. np.sort\n",
    "[[74 90 92]\n",
    " [ 6 63 93]\n",
    " [15 93 96]\n",
    " [48 60 70]]\n",
    "\n",
    "ii. based on 2nd column\n",
    "[[70 60 48]\n",
    " [ 6 63 93]\n",
    " [92 90 74]\n",
    " [15 93 96]]\n",
    "\n",
    "iii. based on row max- ascending\n",
    "[[15 93 96]\n",
    " [ 6 63 93]\n",
    " [92 90 74]\n",
    " [70 60 48]]\n",
    "\n",
    "iv. based on elements value\n",
    "[[ 6 15 48]\n",
    " [60 63 70]\n",
    " [74 90 92]\n",
    " [93 93 96]]\n",
    "\n",
    "```"
   ]
  },
  {
   "cell_type": "code",
   "execution_count": 3,
   "metadata": {
    "id": "Auy-guUwlALv"
   },
   "outputs": [
    {
     "name": "stdout",
     "output_type": "stream",
     "text": [
      "[[87 11 96 79]\n",
      " [56 93 59 50]\n",
      " [ 1  8 44 25]]\n",
      "[2 1 2]\n"
     ]
    }
   ],
   "source": [
    "# code here\n",
    "import numpy as np  \n",
    "\n",
    "# Generate a 3x4 array of random integers between 0 and 100  \n",
    "a = np.random.randint(0, 100, size=(3, 4))  \n",
    "\n",
    "print(a)  \n",
    "# b=np.sort(a)\n",
    "# print(b)\n",
    "maxvalue_indices=np.argmax(a,axis=1)\n",
    "print(maxvalue_indices)\n",
    "sorted_indices=maxvalue_indices\n",
    "\n",
    "\n"
   ]
  },
  {
   "cell_type": "markdown",
   "metadata": {
    "id": "Jx_I3gx9lBay"
   },
   "source": [
    "###`Q-2:` There is an array of marks of 5 students in 4 subjects. Further you are asked to perform below task.\n",
    "    i. Add marks every student of an extra subject in the same array.\n",
    "    ii. Add two new students marks in respective 5 subjects.(one subject added in above task)\n",
    "    iii. Add extra column with sum of all subjects(5-subjects) marks\n",
    "    iv. Sort the array(non-ascending order) on total marks column--one added in above task. Show top 2 rows.\n",
    "\n",
    "Note: Change dimension of arrays during concatenation or appending if required."
   ]
  },
  {
   "cell_type": "markdown",
   "metadata": {
    "id": "lXF-CE6ylNIw"
   },
   "source": [
    "Given Array-\n",
    "```\n",
    "marks = [[13, 10,  9, 33],\n",
    "       [63, 46, 90, 42],\n",
    "       [39, 76, 13, 29],\n",
    "       [82,  9, 29, 78],\n",
    "       [67, 61, 59, 36]]\n",
    "\n",
    "extra_subject = [41, 87, 72, 36, 92]\n",
    "#Two extra students record-\n",
    "rec1 = [77, 83, 98, 95, 89]\n",
    "rec2 = [92, 71, 52, 61, 53]\n",
    "```"
   ]
  },
  {
   "cell_type": "code",
   "execution_count": 34,
   "metadata": {
    "id": "7YKsWO2olMkq"
   },
   "outputs": [
    {
     "name": "stdout",
     "output_type": "stream",
     "text": [
      "student marks\n",
      "[[71 71 68 44]\n",
      " [87 55 65 47]\n",
      " [13 22 85  9]\n",
      " [88 53 15 10]\n",
      " [ 3 54 68 98]]\n"
     ]
    },
    {
     "data": {
      "text/plain": [
       "array([[ 87,  55,  65,  47,  91, 345],\n",
       "       [ 71,  71,  68,  44,  70, 324]])"
      ]
     },
     "execution_count": 34,
     "metadata": {},
     "output_type": "execute_result"
    }
   ],
   "source": [
    "# code here\n",
    "a = np.random.randint(0, 100, size=(5, 4))  \n",
    "print(\"student marks\")\n",
    "print(a)\n",
    "extra_subject_marks=np.random.randint(1,100,size=(5,1))\n",
    "marks=np.append(a,extra_subject_marks.reshape(-1,1),axis=1)\n",
    "marks\n",
    "# \n",
    "six_student_marks=np.random.randint(1,100,size=(1,5))\n",
    "seven_student_marks=np.random.randint(1,100,size=(1,5))\n",
    "# making new array \n",
    "\n",
    "new_students = np.array([six_student_marks[0], seven_student_marks[0]])\n",
    "\n",
    "marks=np.append(marks,new_students,axis=0)\n",
    "marks\n",
    "total_marks=np.sum(marks,axis=1)\n",
    "marks=np.append(marks,total_marks.reshape(-1,1),axis=1)\n",
    "marks\n",
    "np.sort\n",
    "# Sort the array based on the last column (total marks), non-ascending order  \n",
    "sorted_marks = marks[marks[:, -1].argsort()[::-1]]  \n",
    "\n",
    "# Show the top 2 rows  \n",
    "top_2_students = sorted_marks[:2]  \n",
    "top_2_students\n"
   ]
  },
  {
   "cell_type": "markdown",
   "metadata": {
    "id": "VmOyK_8klRqR"
   },
   "source": [
    "###`Q-3:` Find unique arrays from a 2D array column wise and row wise.\n",
    "```\n",
    "arr = np.array([[1,2,3,3,1,1],\n",
    "                [0,9,1,2,8,8],\n",
    "                [1,2,3,8,8,8],\n",
    "                [1,2,3,3,1,1]])\n",
    "```\n",
    "Expected Result-\n",
    "```\n",
    "Row Wise\n",
    "[[0 9 1 2 8 8]\n",
    " [1 2 3 3 1 1]\n",
    " [1 2 3 8 8 8]]\n",
    "\n",
    "Col Wise\n",
    "[[1 1 2 3 3]\n",
    " [0 8 9 1 2]\n",
    " [1 8 2 3 8]\n",
    " [1 1 2 3 3]]\n",
    "```"
   ]
  },
  {
   "cell_type": "code",
   "execution_count": 50,
   "metadata": {
    "id": "LJl10VQrlU5q"
   },
   "outputs": [
    {
     "name": "stdout",
     "output_type": "stream",
     "text": [
      "unique arr column wise\n",
      "[[0 9 1 2 8 8]\n",
      " [1 2 3 3 1 1]\n",
      " [1 2 3 8 8 8]]\n",
      "unique arr row wise\n",
      "[[1 1 2 3 3]\n",
      " [0 8 9 1 2]\n",
      " [1 8 2 3 8]\n",
      " [1 1 2 3 3]]\n"
     ]
    }
   ],
   "source": [
    "# code here\n",
    "arr = np.array([[1,2,3,3,1,1],\n",
    "                [0,9,1,2,8,8],\n",
    "                [1,2,3,8,8,8],\n",
    "                [1,2,3,3,1,1]])\n",
    "print(\"unique arr column wise\")\n",
    "column_wise=np.unique(arr, axis=0)\n",
    "print(column_wise)\n",
    "print(\"unique arr row wise\")\n",
    "row_wise=np.unique(arr, axis=1)\n",
    "print(row_wise)\n"
   ]
  },
  {
   "cell_type": "markdown",
   "metadata": {
    "id": "RaXwVkywlWY2"
   },
   "source": [
    "###`Q-4:` Flip given 2-D array along both axes at the same time."
   ]
  },
  {
   "cell_type": "code",
   "execution_count": 52,
   "metadata": {
    "id": "mN7-4G8Kleeq"
   },
   "outputs": [
    {
     "name": "stdout",
     "output_type": "stream",
     "text": [
      "Original Array:\n",
      "[[1 2 3]\n",
      " [4 5 6]\n",
      " [7 8 9]]\n",
      "Flipped Array along both axes:\n",
      "[[9 8 7]\n",
      " [6 5 4]\n",
      " [3 2 1]]\n"
     ]
    }
   ],
   "source": [
    "# code here\n",
    "import numpy as np\n",
    "\n",
    "arr = np.array([[1, 2, 3],\n",
    "                [4, 5, 6],\n",
    "                [7, 8, 9]])\n",
    "\n",
    "# Flip the array along both axes\n",
    "flipped_arr = np.flip(arr)\n",
    "\n",
    "print(\"Original Array:\")\n",
    "print(arr)\n",
    "\n",
    "print(\"Flipped Array along both axes:\")\n",
    "print(flipped_arr)\n"
   ]
  },
  {
   "cell_type": "markdown",
   "metadata": {
    "id": "X0S7BUNTlfoq"
   },
   "source": [
    "### `Q-5:` Get row numbers of NumPy array having element larger than X.\n",
    "```\n",
    "arr = [[1,2,3,4,5],\n",
    "      [10,-3,30,4,5],\n",
    "      [3,2,5,-4,5],\n",
    "      [9,7,3,6,5]]\n",
    "\n",
    "X = 6\n",
    "```"
   ]
  },
  {
   "cell_type": "code",
   "execution_count": null,
   "metadata": {},
   "outputs": [],
   "source": []
  },
  {
   "cell_type": "raw",
   "metadata": {},
   "source": []
  },
  {
   "cell_type": "code",
   "execution_count": 58,
   "metadata": {
    "id": "bi8jRmWhlkBU"
   },
   "outputs": [
    {
     "name": "stdin",
     "output_type": "stream",
     "text": [
      " 6\n"
     ]
    },
    {
     "name": "stdout",
     "output_type": "stream",
     "text": [
      "Row numbers with element larger than 6 : [1 3]\n"
     ]
    }
   ],
   "source": [
    "# code here\n",
    "x=int(input())\n",
    "arr = np.array([[1,2,3,4,5],\n",
    "      [10,-3,30,4,5],\n",
    "      [3,2,5,-4,5],\n",
    "      [9,7,3,6,5]])\n",
    "# Find row indices where any element is larger than X\n",
    "rows_with_larger_than_X = np.where(np.any(arr > x, axis=1))[0]\n",
    "\n",
    "print(\"Row numbers with element larger than\", x, \":\", rows_with_larger_than_X)\n"
   ]
  },
  {
   "cell_type": "markdown",
   "metadata": {
    "id": "DSCQMo4mlnDG"
   },
   "source": [
    "### `Q-6:` How to convert an array of arrays into a flat 1d array?\n"
   ]
  },
  {
   "cell_type": "code",
   "execution_count": null,
   "metadata": {
    "id": "QZhSkUT2lsJW"
   },
   "outputs": [],
   "source": [
    "# These arrays are given.\n",
    "arr1 = np.arange(3)\n",
    "arr2 = np.arange(3,7)\n",
    "arr3 = np.arange(7,10)"
   ]
  },
  {
   "cell_type": "code",
   "execution_count": 60,
   "metadata": {
    "id": "f42OXNrFls0I"
   },
   "outputs": [
    {
     "name": "stdout",
     "output_type": "stream",
     "text": [
      "Flattened 1D array:\n",
      "[1 2 3 4 5 6 7 8 9]\n"
     ]
    }
   ],
   "source": [
    "# code here\n",
    "import numpy as np\n",
    "\n",
    "# Example 2D array\n",
    "arr = np.array([[1, 2, 3],\n",
    "                [4, 5, 6],\n",
    "                [7, 8, 9]])\n",
    "\n",
    "# Convert 2D array to 1D using flatten()\n",
    "flat_arr = arr.flatten()\n",
    "\n",
    "# Alternatively, you can use ravel()\n",
    "# flat_arr = arr.ravel()\n",
    "\n",
    "print(\"Flattened 1D array:\")\n",
    "print(flat_arr)\n"
   ]
  },
  {
   "cell_type": "markdown",
   "metadata": {
    "id": "A1J4oOVCluqO"
   },
   "source": [
    "### `Q-7:` You are given a array. You have to find the minimum and maximum array element and remove that from the array.\n",
    "\n",
    "```python\n",
    "import numpy as np\n",
    "\n",
    "np.random.seed(400)\n",
    "arr = np.random.randint(100, 1000, 200).reshape((1, 200))\n",
    "```"
   ]
  },
  {
   "cell_type": "code",
   "execution_count": 62,
   "metadata": {
    "id": "c6kmgtUJlybZ"
   },
   "outputs": [
    {
     "name": "stdout",
     "output_type": "stream",
     "text": [
      "Array after removing min and max values:\n",
      "[335 897 548 536 637 522 761 501 893 576 908 952 537 514 767 637 715 662\n",
      " 133 450 765 360 666 240 499 290 863 402 746 513 929 817 766 436 779 730\n",
      " 244 727 493 339 393 549 109 848 803 634 387 375 418 957 482 203 637 368\n",
      " 116 852 388 398 752 226 607 877 419 768 819 893 940 220 923 267 822 534\n",
      " 677 294 486 599 743 873 853 987 692 516 204 645 731 946 494 415 540 171\n",
      " 608 732 588 234 133 561 658 981 255 969 207 189 556 155 663 622 627 452\n",
      " 181 851 109 308 318 408 381 664 437 496 674 255 509 949 598 863 530 815\n",
      " 590 859 564 841 479 115 293 269 482 114 320 308 981 488 695 560 864 989\n",
      " 160 977 761 154 214 527 573 525 968 232 668 369 213 704 703 944 526 169\n",
      " 446 335 915 731 201 584 761 202 956 565 766 508 314 385 930 928 265 719\n",
      " 527 251 269 725 588 686 138 291 166 496 581 115 208 677 710 294]\n"
     ]
    }
   ],
   "source": [
    "# code here\n",
    "arr = np.random.randint(100, 1000, 200).reshape((1, 200))\n",
    "min_value = arr.min()\n",
    "max_value = arr.max()\n",
    "\n",
    "# Remove the minimum and maximum values\n",
    "arr = np.delete(arr, np.where(arr == min_value))\n",
    "arr = np.delete(arr, np.where(arr == max_value))\n",
    "\n",
    "print(\"Array after removing min and max values:\")\n",
    "print(arr)"
   ]
  },
  {
   "cell_type": "markdown",
   "metadata": {
    "id": "0dHN1sdnl0Jy"
   },
   "source": [
    "### `Q-8:` You are given an arrays. You have to limit this array's elements between 100 to 200. $arr ∈ [100, 700]$. So replace those values accordingly with the minimum and maximum value. Then sort the array and perform the cumulative sum of that array."
   ]
  },
  {
   "cell_type": "code",
   "execution_count": null,
   "metadata": {
    "id": "a3YF_E-Hlza7"
   },
   "outputs": [],
   "source": [
    "# code here\n",
    "import numpy as np\n",
    "\n",
    "# Given array\n",
    "arr = np.array([50, 120, 250, 180, 300, 90, 200, 150])\n",
    "\n",
    "# Step 1: Limit values between 100 and 200\n",
    "arr = np.clip(arr, 100, 200)\n",
    "\n",
    "# Step 2: Sort the array\n",
    "arr = np.sort(arr)\n",
    "\n",
    "# Step 3: Compute the cumulative sum\n",
    "cumulative_sum = np.cumsum(arr)\n",
    "\n",
    "# Output results\n",
    "print(\"Modified Array:\", arr)\n",
    "print(\"Cumulative Sum:\", cumulative_sum)\n"
   ]
  },
  {
   "cell_type": "markdown",
   "metadata": {
    "id": "cXj90Susl4-I"
   },
   "source": [
    "### `Q-9:` You are given a array ($arr ∈ [0, 1]$). First you have round off the elements upto 3 decimal places and compare that\n",
    "- 0th percentile == minimum value of the array\n",
    "- 100th percentile == maximum value of the array\n",
    "- also find the difference betwen 51th percenile and 50th percentile values"
   ]
  },
  {
   "cell_type": "code",
   "execution_count": 66,
   "metadata": {
    "id": "SgBEHodgl7Lo"
   },
   "outputs": [
    {
     "data": {
      "text/plain": [
       "array([0.11343954, 0.00520879, 0.15918222, 0.94418476, 0.34199877])"
      ]
     },
     "execution_count": 66,
     "metadata": {},
     "output_type": "execute_result"
    }
   ],
   "source": [
    "# code herehi\n",
    "a=np.random.random(5)\n",
    "a"
   ]
  },
  {
   "cell_type": "code",
   "execution_count": null,
   "metadata": {},
   "outputs": [],
   "source": []
  }
 ],
 "metadata": {
  "colab": {
   "provenance": []
  },
  "kernelspec": {
   "display_name": "Python 3 (ipykernel)",
   "language": "python",
   "name": "python3"
  },
  "language_info": {
   "codemirror_mode": {
    "name": "ipython",
    "version": 3
   },
   "file_extension": ".py",
   "mimetype": "text/x-python",
   "name": "python",
   "nbconvert_exporter": "python",
   "pygments_lexer": "ipython3",
   "version": "3.12.7"
  }
 },
 "nbformat": 4,
 "nbformat_minor": 4
}
